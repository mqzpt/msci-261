{
 "cells": [
  {
   "cell_type": "markdown",
   "id": "a74ac818-3d65-4bef-844a-d80fd271c273",
   "metadata": {},
   "source": [
    "# MSCI 261 Helper"
   ]
  },
  {
   "cell_type": "code",
   "execution_count": 2,
   "id": "d1af7835-4ecc-4de1-ace8-89aed32bf33b",
   "metadata": {},
   "outputs": [],
   "source": [
    "from IPython.display import display, Math\n",
    "import matplotlib.pyplot as plt\n",
    "import seaborn as sns\n",
    "import pandas as pd\n",
    "from sympy import nsolve, Symbol, latex"
   ]
  },
  {
   "cell_type": "code",
   "execution_count": 3,
   "id": "3574f3cd-193d-43b0-8564-17a8b191f51b",
   "metadata": {},
   "outputs": [],
   "source": [
    "# For this stuff, i refers to the annual interest rate, and n refers to the number of years (time period) for the calculation.\n",
    "\n",
    "def f_p(i, n):\n",
    "    return (1+i)**n\n",
    "    \n",
    "def p_f(i, n):\n",
    "    return 1/((1+i)**n)\n",
    "\n",
    "def p_a(i, n):\n",
    "    return ((1+i)**n-1)/(i*((1+i)**n))\n",
    "\n",
    "def a_p(i, n):\n",
    "    return (i*((1+i)**n))/((1+i)**n-1)\n",
    "\n",
    "def f_a(i, n):\n",
    "    return ((1+i)**n-1)/i\n",
    "\n",
    "def a_f(i, n):\n",
    "    return i/((1+i)**n-1)\n",
    "\n",
    "def a_g(i, n):\n",
    "    return (((1+i)**n)-(n*i+1))/(i*((1+i)**n-1))\n",
    "\n",
    "def i_o(i, g):\n",
    "    return ((1+i)/(1+g)) - 1\n",
    "\n",
    "i = Symbol('i')"
   ]
  },
  {
   "cell_type": "markdown",
   "id": "0feb9125-339c-4f46-af8b-3bda7346faa0",
   "metadata": {},
   "source": [
    "## Assignment 2"
   ]
  },
  {
   "cell_type": "markdown",
   "id": "b7f9c277-3b7c-45ac-b3db-550a8f7a8dda",
   "metadata": {},
   "source": [
    "### Question 1"
   ]
  },
  {
   "cell_type": "code",
   "execution_count": 4,
   "id": "8d765851-05b0-48dc-9e63-2b89069d7da8",
   "metadata": {},
   "outputs": [
    {
     "name": "stdout",
     "output_type": "stream",
     "text": [
      "IRR for A: 10.3140004995681%\n"
     ]
    }
   ],
   "source": [
    "print(\"IRR for A: \" + str(100*nsolve(-550000 -20000*p_a(i, 5) - 30000*p_a(i, 7)*p_f(i, 5) - 550000*p_f(i, 9) \n",
    "                                     + (80000*p_a(i_o(i, 0.08), 12))/1.08 + 100000*p_f(i, 9) + 400000*p_f(i, 12), 0.1))+ '%')"
   ]
  },
  {
   "cell_type": "code",
   "execution_count": 5,
   "id": "8ca954ef-ffcd-48cb-87e6-1320d84aca1d",
   "metadata": {},
   "outputs": [
    {
     "name": "stdout",
     "output_type": "stream",
     "text": [
      "IRR for A: 7.22094935459619%\n"
     ]
    }
   ],
   "source": [
    "print(\"IRR for A: \" + str(100*nsolve(-550000 -20000*p_a(i, 5) - 30000*p_a(i, 7)*p_f(i, 5) - 550000*p_f(i, 9) \n",
    "                                     + ((80000*p_a(i_o(i, 0.08), 9))/1.08) + ((80000*p_a(i_o(i, 0.08), 3))/1.08)*p_f(i, 9) + 100000*p_f(i, 9) + 400000*p_f(i, 12), 0.1))+ '%')"
   ]
  },
  {
   "cell_type": "code",
   "execution_count": 6,
   "id": "36edb847-6b81-4e50-a34a-7f2e1d2b360a",
   "metadata": {},
   "outputs": [
    {
     "name": "stdout",
     "output_type": "stream",
     "text": [
      "IRR for A: 7.63757710689742%\n"
     ]
    }
   ],
   "source": [
    "print(\"IRR for A: \" + str(100*nsolve(-550000 -20000*p_a(i, 5) - 30000*p_a(i, 4)*p_f(i, 5) - 20000*p_a(i, 3)*p_f(i, 9) - 550000*p_f(i, 9) \n",
    "                                     + ((80000*p_a(i_o(i, 0.08), 9))/1.08) + ((80000*p_a(i_o(i, 0.08), 3))/1.08)*p_f(i, 9) + 100000*p_f(i, 9) + 400000*p_f(i, 12), 0.1)) + '%')"
   ]
  },
  {
   "cell_type": "code",
   "execution_count": 7,
   "id": "992ceb67-a9e7-4f11-9aa0-3350955373e7",
   "metadata": {},
   "outputs": [
    {
     "name": "stdout",
     "output_type": "stream",
     "text": [
      "IRR for B: 14.1731149740180%\n"
     ]
    }
   ],
   "source": [
    "print(\"IRR for B: \" + str(100*nsolve(-750000 - 40000*p_a(i, 10)*p_f(i, 2) + (110000+(10000*a_g(i, 12)))*p_a(i, 12) + 330000*p_f(i, 12), 0.1)) + '%')"
   ]
  },
  {
   "cell_type": "markdown",
   "id": "79409851-d335-40e2-9094-e6f77987281c",
   "metadata": {},
   "source": [
    "### Question 2"
   ]
  },
  {
   "cell_type": "code",
   "execution_count": 8,
   "id": "441a62bc-873b-417a-acdd-b7fe0e45592d",
   "metadata": {},
   "outputs": [
    {
     "name": "stdout",
     "output_type": "stream",
     "text": [
      "IRR for B: 16.0053892359228%\n"
     ]
    }
   ],
   "source": [
    "print(\"IRR for B: \" + str(100*nsolve(-32000 - ((2000 + (500*a_g(i, 10)))*p_a(i,10)) + 10000*p_a(i, 10) + 6000*p_f(i, 10), 0.1)) + '%')"
   ]
  },
  {
   "cell_type": "code",
   "execution_count": 9,
   "id": "fc9dbf64-a2d6-4084-93c7-16374d41cd78",
   "metadata": {},
   "outputs": [
    {
     "name": "stdout",
     "output_type": "stream",
     "text": [
      "IRR for A at an x value of $2500.0: 16.1576161954321%\n",
      "IRR for A at an x value of $2400.0: 15.2467929657709%\n",
      "IRR for A at an x value of $2450.0: 15.7048326585885%\n",
      "IRR for A at an x value of $2475.0: 15.9318692020097%\n",
      "IRR for A at an x value of $2487.5: 16.0449023989950%\n",
      "IRR for A at an x value of $2481.25: 15.9884259106397%\n",
      "IRR for A at an x value of $2484.38: 16.0166741591181%\n",
      "IRR for A at an x value of $2482.81: 16.0025525388520%\n",
      "IRR for A at an x value of $2483.59: 16.0096139746157%\n",
      "IRR for A at an x value of $2483.2: 16.0060834131868%\n",
      "IRR for A at an x value of $2483.01: 16.0043180151383%\n",
      "IRR for A at an x value of $2483.11: 16.0052007239416%\n",
      "IRR for A at an x value of $2483.15: 16.0056420710089%\n",
      "IRR for A at an x value of $2483.13: 16.0054213980864%\n",
      "IRR for A at an x value of $2483.12: 16.0053110611668%\n",
      "IRR for A at an x value of $2483.12: 16.0053662296648%\n",
      "IRR for A at an x value of $2483.13: 16.0053938138851%\n"
     ]
    }
   ],
   "source": [
    "# Binary Search to find x\n",
    "\n",
    "low = 2300\n",
    "x = 2500\n",
    "high = 2700\n",
    "\n",
    "while abs(nsolve(-24000 -(1000*p_a(i,10)) + ((x + 0.4*x*a_g(i, 10)))*(p_a(i,10)) + 4000*p_f(i, 10), 0.1) - 0.16005389) > 0.0000001:\n",
    "    x = low + (high - low) / 2\n",
    "    print(\"IRR for A at an x value of \" + \"$\" + str(round(x, 2)) + \": \" + \n",
    "          str(100*nsolve(-24000 -(1000*p_a(i,10)) + ((x + 0.4*x*a_g(i, 10)))*(p_a(i,10)) + 4000*p_f(i, 10), 0.1)) + '%')\n",
    "    \n",
    "    if nsolve(-24000 -(1000*p_a(i,10)) + ((x + 0.4*x*a_g(i, 10)))*(p_a(i,10)) + 4000*p_f(i, 10), 0.1) > 0.16005389:\n",
    "        high = x\n",
    "    else:\n",
    "        low = x"
   ]
  },
  {
   "cell_type": "markdown",
   "id": "7a06719d-4485-4c86-8448-9de012bd8c71",
   "metadata": {},
   "source": [
    "### Question 3"
   ]
  },
  {
   "cell_type": "code",
   "execution_count": 12,
   "id": "373e1511-a9fc-41b3-ad97-ec0faf385fdf",
   "metadata": {},
   "outputs": [
    {
     "data": {
      "text/latex": [
       "$\\displaystyle 2200000 - \\frac{8800000}{\\left(i + 1\\right)^{3}} - \\frac{7800000}{\\left(i + 1\\right)^{12}} + \\frac{\\left(1000000 + \\frac{200000 \\left(- 17 i + \\left(i + 1\\right)^{17} - 1\\right)}{i \\left(\\left(i + 1\\right)^{17} - 1\\right)}\\right) \\left(\\left(i + 1\\right)^{17} - 1\\right)}{i \\left(i + 1\\right)^{20}} - \\frac{400000 \\left(\\left(i + 1\\right)^{17} - 1\\right)}{i \\left(i + 1\\right)^{20}}$"
      ],
      "text/plain": [
       "2200000 - 8800000/(i + 1)**3 - 7800000/(i + 1)**12 + (1000000 + 200000*(-17*i + (i + 1)**17 - 1)/(i*((i + 1)**17 - 1)))*((i + 1)**17 - 1)/(i*(i + 1)**20) - 400000*((i + 1)**17 - 1)/(i*(i + 1)**20)"
      ]
     },
     "execution_count": 12,
     "metadata": {},
     "output_type": "execute_result"
    }
   ],
   "source": [
    "-4600000 - 8800000*p_f(i, 3) - 400000*p_a(i, 17)*p_f(i, 3) - 7800000*p_f(i, 12) + 6800000 + ((1000000 + (200000*a_g(i, 17)))*p_a(i, 17)*p_f(i, 3))"
   ]
  },
  {
   "cell_type": "markdown",
   "id": "80983d98-4085-4f85-a355-94e769c6186d",
   "metadata": {},
   "source": [
    "#### Showing IRR/Time is Nonconvex (so we should get approx ERR instead)"
   ]
  },
  {
   "cell_type": "code",
   "execution_count": 13,
   "id": "ff8bdbb6-7b6d-44fa-937b-7684a37e3db6",
   "metadata": {},
   "outputs": [
    {
     "name": "stdout",
     "output_type": "stream",
     "text": [
      "IRR (Root at): 21.9513151628046%\n"
     ]
    }
   ],
   "source": [
    "print(\"IRR (Root at): \" + str(100*nsolve(-4600000 - 8800000*p_f(i, 3) - 400000*p_a(i, 17)*p_f(i, 3) - 7800000*p_f(i, 12) + 6800000 + ((1000000 + (200000*a_g(i, 17)))*p_a(i, 17)*p_f(i, 3)), -0.5)) + '%')"
   ]
  },
  {
   "cell_type": "code",
   "execution_count": 14,
   "id": "21cd8c3c-51f8-4b88-b5c3-6acb759f81b8",
   "metadata": {},
   "outputs": [
    {
     "name": "stdout",
     "output_type": "stream",
     "text": [
      "IRR (Root at): 45.7527224922306%\n"
     ]
    }
   ],
   "source": [
    "print(\"IRR (Root at): \" + str(100*nsolve(-4600000 - 8800000*p_f(i, 3) - 400000*p_a(i, 17)*p_f(i, 3) - 7800000*p_f(i, 12) + 6800000 + ((1000000 + (200000*a_g(i, 17)))*p_a(i, 17)*p_f(i, 3)), 0.1)) + '%')"
   ]
  },
  {
   "cell_type": "code",
   "execution_count": 15,
   "id": "711a73ad-f7b2-4f43-ab60-ae6db4832226",
   "metadata": {},
   "outputs": [
    {
     "name": "stdout",
     "output_type": "stream",
     "text": [
      "0.005532830022275448\n",
      "-0.002629060880281031\n"
     ]
    }
   ],
   "source": [
    "# Verify root accuracy\n",
    "q = 0.219513151\n",
    "w = 0.457527224\n",
    "print(-4600000 - 8800000*p_f(i=q, n=3) - 400000*p_a(i=q, n=17)*p_f(i=q, n=3) - 7800000*p_f(i=q, n=12) + 6800000 + ((1000000 + (200000*a_g(i=q, n=17)))*p_a(i=q, n=17)*p_f(i=q, n=3)))\n",
    "print(-4600000 - 8800000*p_f(i=w, n=3) - 400000*p_a(i=w, n=17)*p_f(i=w, n=3) - 7800000*p_f(i=w, n=12) + 6800000 + ((1000000 + (200000*a_g(i=w, n=17)))*p_a(i=w, n=17)*p_f(i=w, n=3)))"
   ]
  },
  {
   "cell_type": "code",
   "execution_count": 16,
   "id": "7b2f331b-9837-40fa-a6ac-4560d9258986",
   "metadata": {},
   "outputs": [
    {
     "name": "stdout",
     "output_type": "stream",
     "text": [
      "167617923.88787055\n"
     ]
    }
   ],
   "source": [
    "# ERR for FWB\n",
    "print(f'{6800000*f_p(0.12, 20) + (200000*a_g(0.12, 17) + 1000000)*f_a(0.12, 17)}')"
   ]
  },
  {
   "cell_type": "code",
   "execution_count": 17,
   "id": "b340dba1-eda4-4e88-a698-4b0df59ae678",
   "metadata": {},
   "outputs": [
    {
     "data": {
      "text/latex": [
       "$\\displaystyle 13.0890372520649$"
      ],
      "text/plain": [
       "13.0890372520649"
      ]
     },
     "execution_count": 17,
     "metadata": {},
     "output_type": "execute_result"
    }
   ],
   "source": [
    "# Setting FWB = FWC\n",
    "nsolve((4600000*f_p(i, 20) + 8800000*f_p(i, 17) + 400000*f_a(i, 17) + 7800000*f_p(i, 8) - 167617923.88787055), 0.1)*100"
   ]
  },
  {
   "cell_type": "markdown",
   "id": "33dc0719-00ec-459a-af35-a335c1c1c08e",
   "metadata": {},
   "source": [
    "### Question 4"
   ]
  },
  {
   "cell_type": "code",
   "execution_count": 18,
   "id": "c5cbad39-ec02-48ed-a266-e191de93ff72",
   "metadata": {},
   "outputs": [
    {
     "data": {
      "text/plain": [
       "18197.04788163555"
      ]
     },
     "execution_count": 18,
     "metadata": {},
     "output_type": "execute_result"
    }
   ],
   "source": [
    "(12000*p_f(0.08, 1) + 14000*p_f(0.08, 2) + 16000*p_f(0.08, 3) + 18000*p_f(0.08, 4) + + 20000*p_f(0.08, 5) \n",
    "  + 22000*p_f(0.08, 6) + 24000*p_f(0.08, 7) + 26000*p_f(0.08, 8) )*a_p(0.08, 8)"
   ]
  },
  {
   "cell_type": "code",
   "execution_count": 25,
   "id": "66224da8-b5cb-420b-a185-7ebdb712d32f",
   "metadata": {},
   "outputs": [
    {
     "data": {
      "text/html": [
       "<div>\n",
       "<style scoped>\n",
       "    .dataframe tbody tr th:only-of-type {\n",
       "        vertical-align: middle;\n",
       "    }\n",
       "\n",
       "    .dataframe tbody tr th {\n",
       "        vertical-align: top;\n",
       "    }\n",
       "\n",
       "    .dataframe thead th {\n",
       "        text-align: right;\n",
       "    }\n",
       "</style>\n",
       "<table border=\"1\" class=\"dataframe\">\n",
       "  <thead>\n",
       "    <tr style=\"text-align: right;\">\n",
       "      <th></th>\n",
       "      <th>Year</th>\n",
       "      <th>EAC (Capital)</th>\n",
       "      <th>EAC (O&amp;M)</th>\n",
       "      <th>EAC (Total)</th>\n",
       "    </tr>\n",
       "  </thead>\n",
       "  <tbody>\n",
       "    <tr>\n",
       "      <th>0</th>\n",
       "      <td>1</td>\n",
       "      <td>29600.000000</td>\n",
       "      <td>12000.00</td>\n",
       "      <td>41600.000000</td>\n",
       "    </tr>\n",
       "    <tr>\n",
       "      <th>1</th>\n",
       "      <td>2</td>\n",
       "      <td>24023.076923</td>\n",
       "      <td>12961.54</td>\n",
       "      <td>36984.616923</td>\n",
       "    </tr>\n",
       "    <tr>\n",
       "      <th>2</th>\n",
       "      <td>3</td>\n",
       "      <td>23461.508132</td>\n",
       "      <td>13897.49</td>\n",
       "      <td>37358.998132</td>\n",
       "    </tr>\n",
       "    <tr>\n",
       "      <th>3</th>\n",
       "      <td>4</td>\n",
       "      <td>21805.644245</td>\n",
       "      <td>14807.92</td>\n",
       "      <td>36613.564245</td>\n",
       "    </tr>\n",
       "    <tr>\n",
       "      <th>4</th>\n",
       "      <td>5</td>\n",
       "      <td>20679.669547</td>\n",
       "      <td>15692.94</td>\n",
       "      <td>36372.609547</td>\n",
       "    </tr>\n",
       "    <tr>\n",
       "      <th>5</th>\n",
       "      <td>6</td>\n",
       "      <td>19142.077036</td>\n",
       "      <td>16552.69</td>\n",
       "      <td>35694.767036</td>\n",
       "    </tr>\n",
       "    <tr>\n",
       "      <th>6</th>\n",
       "      <td>7</td>\n",
       "      <td>18005.430107</td>\n",
       "      <td>17387.33</td>\n",
       "      <td>35392.760107</td>\n",
       "    </tr>\n",
       "    <tr>\n",
       "      <th>7</th>\n",
       "      <td>8</td>\n",
       "      <td>17121.180847</td>\n",
       "      <td>18197.05</td>\n",
       "      <td>35318.230847</td>\n",
       "    </tr>\n",
       "  </tbody>\n",
       "</table>\n",
       "</div>"
      ],
      "text/plain": [
       "   Year  EAC (Capital)  EAC (O&M)   EAC (Total)\n",
       "0     1   29600.000000   12000.00  41600.000000\n",
       "1     2   24023.076923   12961.54  36984.616923\n",
       "2     3   23461.508132   13897.49  37358.998132\n",
       "3     4   21805.644245   14807.92  36613.564245\n",
       "4     5   20679.669547   15692.94  36372.609547\n",
       "5     6   19142.077036   16552.69  35694.767036\n",
       "6     7   18005.430107   17387.33  35392.760107\n",
       "7     8   17121.180847   18197.05  35318.230847"
      ]
     },
     "execution_count": 25,
     "metadata": {},
     "output_type": "execute_result"
    }
   ],
   "source": [
    "year = []\n",
    "eac_cap = []\n",
    "eac_om = [12000, 12961.54, 13897.49, 14807.92, 15692.94, 16552.69, 17387.33, 18197.05]\n",
    "for s, n in [(100000, 1), (90000, 2), (75000, 3), (65000, 4), (55000, 5), (50000, 6), (45000, 7), (40000, 8)]:\n",
    "    year.append(n)\n",
    "    eac_cap.append((120000-s)*a_p(0.08, n) + s*0.08)\n",
    "    \n",
    "df = pd.DataFrame({'Year':year, 'EAC (Capital)':eac_cap, 'EAC (O&M)':eac_om})\n",
    "df['EAC (Total)'] = df['EAC (Capital)'] + df['EAC (O&M)']\n",
    "df"
   ]
  },
  {
   "cell_type": "markdown",
   "id": "017d4fef-673f-461e-82d3-3fb762e041dd",
   "metadata": {},
   "source": [
    "### Question 5"
   ]
  },
  {
   "cell_type": "code",
   "execution_count": 26,
   "id": "bc00429a-43ff-4e0a-8166-2edbbfb647fc",
   "metadata": {},
   "outputs": [
    {
     "data": {
      "text/plain": [
       "14142.857142857138"
      ]
     },
     "execution_count": 26,
     "metadata": {},
     "output_type": "execute_result"
    }
   ],
   "source": [
    "15000*a_p(0.1, 2) + 55000*0.1"
   ]
  },
  {
   "cell_type": "code",
   "execution_count": 27,
   "id": "7d765185-6f87-47df-86d4-6ff6535e53f2",
   "metadata": {},
   "outputs": [
    {
     "data": {
      "text/plain": [
       "6604.229607250754"
      ]
     },
     "execution_count": 27,
     "metadata": {},
     "output_type": "execute_result"
    }
   ],
   "source": [
    "6000 + 2000*a_f(0.1, 3)"
   ]
  },
  {
   "cell_type": "markdown",
   "id": "ee9db573-3823-4950-8a58-15ed19d10773",
   "metadata": {},
   "source": [
    "## Assignment 3"
   ]
  },
  {
   "cell_type": "markdown",
   "id": "96cb8257-2813-4556-90f1-75feded39957",
   "metadata": {},
   "source": [
    "### Question 1"
   ]
  },
  {
   "cell_type": "code",
   "execution_count": 30,
   "id": "20daa0fb-e8ec-493b-bdea-f8035df79247",
   "metadata": {},
   "outputs": [
    {
     "data": {
      "text/plain": [
       "127881.34290697944"
      ]
     },
     "execution_count": 30,
     "metadata": {},
     "output_type": "execute_result"
    }
   ],
   "source": [
    "ctf = 0.7936507937\n",
    "csf = 0.7857142857\n",
    "\n",
    "-160000*ctf -((12000+(3000*a_g(0.08, 8)))*(p_a(0.08, 8))*0.7) \\\n",
    "+ (60000*p_a(i_o(0.08, 0.10), 8)/1.10)*0.7 + 20000*p_f(0.08, 8)*csf"
   ]
  },
  {
   "cell_type": "markdown",
   "id": "4fcf3f40-5cde-4ebd-83fd-e28430204014",
   "metadata": {},
   "source": [
    "### Question 2"
   ]
  },
  {
   "cell_type": "code",
   "execution_count": 31,
   "id": "b72694d9-8d1b-436e-b0d8-d3ff975e1030",
   "metadata": {},
   "outputs": [
    {
     "name": "stdout",
     "output_type": "stream",
     "text": [
      "IRR (Root at): 12.4696725287100%\n",
      "IRR (After Tax): 8.72877077009701%\n"
     ]
    }
   ],
   "source": [
    "#Question 2a)\n",
    "\n",
    "print(\"IRR (Root at): \" + str(100*nsolve(-230000 - 25000*p_a(i, 10) + 54000*p_a(i_o(i, 0.05), 10)/1.05 + 30000*p_f(i, 10), 0.1)) + '%')\n",
    "print(\"IRR (After Tax): \" + str(100*nsolve(-230000 - 25000*p_a(i, 10) + 54000*p_a(i_o(i, 0.05), 10)/1.05 + 30000*p_f(i, 10), 0.1)*0.7) + '%')"
   ]
  },
  {
   "cell_type": "code",
   "execution_count": 32,
   "id": "a9f44ac9-c478-44dd-9324-fd5d3417f6d7",
   "metadata": {},
   "outputs": [
    {
     "name": "stdout",
     "output_type": "stream",
     "text": [
      "IRR (After Tax): 9.48265499731219%\n"
     ]
    }
   ],
   "source": [
    "#Question 2b)\n",
    "print(\"IRR (After Tax): \" + str(nsolve(-230000-((-230000/10)*0.3*p_a(i, 10)) - \n",
    "                                       25000*p_a(i, 10)*0.7 + 54000*(p_a(i_o(i, 0.05), 10)/1.05)*0.7 + \n",
    "                                       30000*p_f(i, 10)*0.7, 0.1)*100) + \"%\")\n"
   ]
  },
  {
   "cell_type": "code",
   "execution_count": 33,
   "id": "98f45505-bb4f-43ca-a925-a6c7e10e3cc9",
   "metadata": {},
   "outputs": [
    {
     "name": "stdout",
     "output_type": "stream",
     "text": [
      "Present Worth (After Tax): $22986.27933810941\n"
     ]
    }
   ],
   "source": [
    "#Question 2c)\n",
    "ctf = 0.7811447811\n",
    "csf = 0.77272727\n",
    "\n",
    "print(\"Present Worth (After Tax): $\" + str(- (230000*ctf) - (25000*p_a(0.08, 10)*0.7) + \n",
    "                                ((54000*p_a(i_o(0.08, 0.05), 10)/1.05)*0.7) + 30000*p_f(0.08, 10)*csf))"
   ]
  },
  {
   "cell_type": "markdown",
   "id": "9be61442-32e9-42c8-9315-144292b3c6a7",
   "metadata": {},
   "source": [
    "### Question 4"
   ]
  },
  {
   "cell_type": "code",
   "execution_count": 34,
   "id": "e3056337-f438-4c30-8c75-f203fb637c0e",
   "metadata": {},
   "outputs": [
    {
     "data": {
      "text/plain": [
       "115762.87454452252"
      ]
     },
     "execution_count": 34,
     "metadata": {},
     "output_type": "execute_result"
    }
   ],
   "source": [
    "-60000 - (5000*p_a(i_o(0.1, 0.06), 10)/1.06) + (20000 + 4000*a_g(0.1, 10))*p_a(0.1, 10)"
   ]
  },
  {
   "cell_type": "code",
   "execution_count": 35,
   "id": "0c3efa57-c123-4e41-93b5-3c4ec823493a",
   "metadata": {},
   "outputs": [
    {
     "data": {
      "text/plain": [
       "120037.99211407994"
      ]
     },
     "execution_count": 35,
     "metadata": {},
     "output_type": "execute_result"
    }
   ],
   "source": [
    "-60000 - (5000*p_a(i_o(0.1, 0.03), 10)/1.03) + (20000 + 4000*a_g(0.1, 10))*p_a(0.1, 10)"
   ]
  },
  {
   "cell_type": "code",
   "execution_count": 36,
   "id": "a54d7f3a-27cd-406b-b485-62c2cf333d1d",
   "metadata": {},
   "outputs": [
    {
     "data": {
      "text/plain": [
       "150119.697399328"
      ]
     },
     "execution_count": 36,
     "metadata": {},
     "output_type": "execute_result"
    }
   ],
   "source": [
    "(20000 + 4000*a_g(0.10, 10))*p_a(0.1, 10)*0.7"
   ]
  },
  {
   "cell_type": "code",
   "execution_count": 37,
   "id": "1531ce8b-bacf-4d1d-99ec-27582ba234f7",
   "metadata": {},
   "outputs": [
    {
     "data": {
      "text/plain": [
       "76272.02031555817"
      ]
     },
     "execution_count": 37,
     "metadata": {},
     "output_type": "execute_result"
    }
   ],
   "source": [
    "i_prime = 0.0377\n",
    "-60000*0.7522 - 5000*p_a(i_prime, 10)*0.7 + 150120"
   ]
  },
  {
   "cell_type": "code",
   "execution_count": 38,
   "id": "41378ff9-a485-43b6-a0d5-8f330c6722c9",
   "metadata": {},
   "outputs": [
    {
     "data": {
      "text/plain": [
       "78311.36967634401"
      ]
     },
     "execution_count": 38,
     "metadata": {},
     "output_type": "execute_result"
    }
   ],
   "source": [
    "i_prime = 0.0377\n",
    "-60000*0.78321 - 5000*p_a(0.06796, 10)*0.7 + 150120"
   ]
  },
  {
   "cell_type": "code",
   "execution_count": 39,
   "id": "136d5039-5318-4f16-977d-7e10f7fe772f",
   "metadata": {},
   "outputs": [
    {
     "data": {
      "text/plain": [
       "1.0377358490566038"
      ]
     },
     "execution_count": 39,
     "metadata": {},
     "output_type": "execute_result"
    }
   ],
   "source": [
    "1.10/1.06"
   ]
  },
  {
   "cell_type": "code",
   "execution_count": 40,
   "id": "16be2793-ef53-4538-8f64-471cb33ab207",
   "metadata": {},
   "outputs": [
    {
     "data": {
      "text/plain": [
       "150119.697399328"
      ]
     },
     "execution_count": 40,
     "metadata": {},
     "output_type": "execute_result"
    }
   ],
   "source": [
    "(20000 + 4000*a_g(0.1, 10))*p_a(0.1, 10)*0.7"
   ]
  }
 ],
 "metadata": {
  "kernelspec": {
   "display_name": "Python 3 (ipykernel)",
   "language": "python",
   "name": "python3"
  },
  "language_info": {
   "codemirror_mode": {
    "name": "ipython",
    "version": 3
   },
   "file_extension": ".py",
   "mimetype": "text/x-python",
   "name": "python",
   "nbconvert_exporter": "python",
   "pygments_lexer": "ipython3",
   "version": "3.12.2"
  }
 },
 "nbformat": 4,
 "nbformat_minor": 5
}
